{
 "cells": [
  {
   "cell_type": "code",
   "execution_count": 1,
   "id": "950b2909-18bb-42f9-bad0-47dae9b6760b",
   "metadata": {},
   "outputs": [],
   "source": [
    "import pandas as pd\n",
    "import numpy as np\n",
    "import torch\n",
    "from torch.utils.data import Dataset, DataLoader\n",
    "from torchvision import transforms\n",
    "from tqdm import tqdm\n",
    "import glob\n",
    "device = torch.device('cuda' if torch.cuda.is_available() else 'cpu')"
   ]
  },
  {
   "cell_type": "code",
   "execution_count": 2,
   "id": "c072d950-fb92-4e7d-859b-b8d6cba99179",
   "metadata": {},
   "outputs": [],
   "source": [
    "from CloudDetect.util import read_off, visualise\n",
    "from CloudDetect.transform import PointCloudSample, Normalise, Tensor\n",
    "from CloudDetect.models import PointNet\n",
    "from CloudDetect.dataset import CloudDataset, assign_val_indices\n",
    "from CloudDetect.util import get_metrics\n",
    "from CloudDetect.train_validate import training"
   ]
  },
  {
   "cell_type": "code",
   "execution_count": 3,
   "id": "eea590bb-ad5f-43ea-9da9-77a34e6fd954",
   "metadata": {},
   "outputs": [],
   "source": [
    "metadata = pd.read_csv('data/metadata_modelnet40.csv')\n",
    "all_data_files = glob.glob('**/*.off',recursive=True)\n",
    "all_data_files = set(['/'.join(x.split('/')[2:]) for x in all_data_files])\n",
    "metadata = metadata[metadata['object_path'].map(lambda x: x in all_data_files)]"
   ]
  },
  {
   "cell_type": "code",
   "execution_count": 4,
   "id": "9b10600c-7a3c-40df-8359-8742e48129ed",
   "metadata": {},
   "outputs": [],
   "source": [
    "# data loader"
   ]
  },
  {
   "cell_type": "code",
   "execution_count": 5,
   "id": "00e12d78-a3bf-41e3-aac3-ac52fa1a02d1",
   "metadata": {},
   "outputs": [],
   "source": [
    "def preprocessing(n_sample, norm_how):\n",
    "    composition = [\n",
    "            PointCloudSample(n_sample),\n",
    "            Normalise(norm_how),\n",
    "            Tensor()\n",
    "    ]\n",
    "    return transforms.Compose(composition)\n",
    "\n",
    "def generate_class_mapper(metadata):\n",
    "    class_mapper = {x:i for i,x in enumerate(metadata['class'].unique())}\n",
    "    return class_mapper"
   ]
  },
  {
   "cell_type": "code",
   "execution_count": 6,
   "id": "325e00ba-3a5b-460b-afd6-184d865e58a8",
   "metadata": {},
   "outputs": [],
   "source": [
    "metadata_train = metadata[metadata['split'] == 'train']\n",
    "class_mapper = generate_class_mapper(metadata_train)\n",
    "metadata_test = metadata[metadata['split'] == 'test']\n",
    "metadata_train = metadata_train.reset_index(drop = True)\n",
    "metadata_test = metadata_test.reset_index(drop = True)\n",
    "assign_val_indices(metadata_train, 'class', 3)"
   ]
  },
  {
   "cell_type": "code",
   "execution_count": 7,
   "id": "436c0a08-1d31-4ccc-959b-95267f67672d",
   "metadata": {},
   "outputs": [],
   "source": [
    "# modelling\n",
    "loss_fn = torch.nn.NLLLoss()\n",
    "model = PointNet(n_point = 1024, classes = len(class_mapper), segment = False).to(device)\n",
    "optimiser = torch.optim.Adam(model.parameters(), lr=0.0001)"
   ]
  },
  {
   "cell_type": "code",
   "execution_count": 8,
   "id": "085a3c49-180a-4e5a-b28a-f07a27f43d64",
   "metadata": {},
   "outputs": [],
   "source": [
    "val_idx = 2\n",
    "metadata_train_val = metadata_train[metadata_train['kfold'] == val_idx]\n",
    "metadata_train_train = metadata_train[metadata_train['kfold'] != val_idx]\n",
    "\n",
    "# jsut for quick training\n",
    "#metadata_train_train = metadata_train_train.sample(100)\n",
    "#metadata_train_val = metadata_train_val.sample(100)\n",
    "\n",
    "# dataset\n",
    "ROOT = 'data/ModelNet40/'\n",
    "preprocessor = preprocessing(1024, 'max')\n",
    "class_mapper = generate_class_mapper(metadata)\n",
    "\n",
    "cloud_train_dataset = CloudDataset(metadata_train_train, preprocessor, ROOT, class_mapper, device)\n",
    "cloud_val_dataset = CloudDataset(metadata_train_val, preprocessor, ROOT, class_mapper, device)\n",
    "\n",
    "CloudDataTrainLoader = DataLoader(cloud_train_dataset, batch_size=32, shuffle=True)\n",
    "CloudDataValLoader = DataLoader(cloud_val_dataset, batch_size=32, shuffle=False)"
   ]
  },
  {
   "cell_type": "code",
   "execution_count": 9,
   "id": "873ff64c-5408-431f-a096-dfe8feb582c2",
   "metadata": {},
   "outputs": [],
   "source": [
    "train_object = training(loss_fn, optimiser, model, CloudDataTrainLoader, CloudDataValLoader, 10, False, device)"
   ]
  },
  {
   "cell_type": "code",
   "execution_count": null,
   "id": "b22d466f-5f56-437b-9c15-44b2eeb86e65",
   "metadata": {},
   "outputs": [
    {
     "name": "stderr",
     "output_type": "stream",
     "text": [
      "BATCH TRAIN LOSS -999 - VAL LOSS -999:   1%|    | 2/206 [00:07<11:46,  3.46s/it]"
     ]
    }
   ],
   "source": [
    "train_object.run(num_epoch = 2)"
   ]
  },
  {
   "cell_type": "code",
   "execution_count": 95,
   "id": "f17cac1c-9eb8-44a2-9f96-26685e8fe0ea",
   "metadata": {},
   "outputs": [],
   "source": [
    "# dataset\n",
    "ROOT = 'data/ModelNet40/'\n",
    "preprocessor = preprocessing(1024, 'max')\n",
    "class_mapper = generate_class_mapper(metadata)\n",
    "\n",
    "cloud_train_dataset = CloudDataset(metadata_train_train, preprocessor, ROOT, class_mapper)\n",
    "cloud_test_dataset = CloudDataset(metadata_test.sample(100), preprocessor, ROOT, class_mapper)\n",
    "\n",
    "CloudDataTrainLoader = DataLoader(cloud_train_dataset, batch_size=32, shuffle=True)\n",
    "CloudDataValLoader = DataLoader(cloud_test_dataset, batch_size=32, shuffle=False)"
   ]
  },
  {
   "cell_type": "code",
   "execution_count": 96,
   "id": "d9ee7b62-931e-47b0-8243-90004e894963",
   "metadata": {},
   "outputs": [],
   "source": [
    "train_object = training(loss_fn, optimiser,model, CloudDataTrainLoader, CloudDataValLoader)"
   ]
  },
  {
   "cell_type": "code",
   "execution_count": 97,
   "id": "83e662f1-7f2d-4168-ba58-bed30106e3fb",
   "metadata": {},
   "outputs": [
    {
     "name": "stderr",
     "output_type": "stream",
     "text": [
      "BATCH TRAIN LOSS 3.56587 - VAL LOSS 3.73725: 100%|█| 4/4 [00:40<00:00, 10.22s/it\n",
      "/opt/miniconda3/envs/main/lib/python3.12/site-packages/sklearn/metrics/_classification.py:2458: UserWarning: y_pred contains classes not in y_true\n",
      "  warnings.warn(\"y_pred contains classes not in y_true\")\n"
     ]
    },
    {
     "name": "stdout",
     "output_type": "stream",
     "text": [
      "{'f1_score': 0.017671517671517672, 'precision': 0.012012012012012012, 'recall': 0.033783783783783786, 'balanced_acc': 0.0390625, 'loss': 3.746208429336548}\n"
     ]
    },
    {
     "name": "stderr",
     "output_type": "stream",
     "text": [
      "BATCH TRAIN LOSS -999 - VAL LOSS -999:  25%|█▌    | 1/4 [00:06<00:20,  6.68s/it]"
     ]
    },
    {
     "name": "stdout",
     "output_type": "stream",
     "text": [
      "Unexpected exception formatting exception. Falling back to standard exception\n"
     ]
    },
    {
     "name": "stderr",
     "output_type": "stream",
     "text": [
      "\n",
      "Traceback (most recent call last):\n",
      "  File \"/opt/miniconda3/envs/main/lib/python3.12/site-packages/IPython/core/interactiveshell.py\", line 3577, in run_code\n",
      "    exec(code_obj, self.user_global_ns, self.user_ns)\n",
      "  File \"/var/folders/4s/7f5zf8596_526pnhktn077f40000gn/T/ipykernel_24730/370393514.py\", line 1, in <module>\n",
      "    train_object.run(num_epoch = 2)\n",
      "  File \"/var/folders/4s/7f5zf8596_526pnhktn077f40000gn/T/ipykernel_24730/1807974284.py\", line 88, in run\n",
      "    self.run_epoch(epoch_idx = i)\n",
      "  File \"/var/folders/4s/7f5zf8596_526pnhktn077f40000gn/T/ipykernel_24730/1807974284.py\", line 45, in run_epoch\n",
      "    loss = self.perform_optimisation(X, y)\n",
      "           ^^^^^^^^^^^^^^^^^^^^^^^^^^^^^^^\n",
      "  File \"/var/folders/4s/7f5zf8596_526pnhktn077f40000gn/T/ipykernel_24730/1807974284.py\", line 22, in perform_optimisation\n",
      "    model_output = self.model(X)\n",
      "                   ^^^^^^^^^^^^^\n",
      "  File \"/opt/miniconda3/envs/main/lib/python3.12/site-packages/torch/nn/modules/module.py\", line 1532, in _wrapped_call_impl\n",
      "    return self._call_impl(*args, **kwargs)\n",
      "           ^^^^^^^^^^^^^^^^^^^^^^^^^^^^^^^^\n",
      "  File \"/opt/miniconda3/envs/main/lib/python3.12/site-packages/torch/nn/modules/module.py\", line 1541, in _call_impl\n",
      "    return forward_call(*args, **kwargs)\n",
      "           ^^^^^^^^^^^^^^^^^^^^^^^^^^^^^\n",
      "  File \"/Users/rezadoobary/Documents/github/CloudDetector/CloudDetect/models.py\", line 133, in forward\n",
      "    global_features, local_features, matrix3x3, matrix64x64 = self.transform(input)\n",
      "                                                              ^^^^^^^^^^^^^^^^^^^^^\n",
      "  File \"/opt/miniconda3/envs/main/lib/python3.12/site-packages/torch/nn/modules/module.py\", line 1532, in _wrapped_call_impl\n",
      "    return self._call_impl(*args, **kwargs)\n",
      "           ^^^^^^^^^^^^^^^^^^^^^^^^^^^^^^^^\n",
      "  File \"/opt/miniconda3/envs/main/lib/python3.12/site-packages/torch/nn/modules/module.py\", line 1541, in _call_impl\n",
      "    return forward_call(*args, **kwargs)\n",
      "           ^^^^^^^^^^^^^^^^^^^^^^^^^^^^^\n",
      "  File \"/Users/rezadoobary/Documents/github/CloudDetector/CloudDetect/models.py\", line 65, in forward\n",
      "    xb = self.bn3(self.conv3(xb))\n",
      "                  ^^^^^^^^^^^^^^\n",
      "  File \"/opt/miniconda3/envs/main/lib/python3.12/site-packages/torch/nn/modules/module.py\", line 1532, in _wrapped_call_impl\n",
      "    return self._call_impl(*args, **kwargs)\n",
      "           ^^^^^^^^^^^^^^^^^^^^^^^^^^^^^^^^\n",
      "  File \"/opt/miniconda3/envs/main/lib/python3.12/site-packages/torch/nn/modules/module.py\", line 1541, in _call_impl\n",
      "    return forward_call(*args, **kwargs)\n",
      "           ^^^^^^^^^^^^^^^^^^^^^^^^^^^^^\n",
      "  File \"/opt/miniconda3/envs/main/lib/python3.12/site-packages/torch/nn/modules/conv.py\", line 310, in forward\n",
      "    return self._conv_forward(input, self.weight, self.bias)\n",
      "           ^^^^^^^^^^^^^^^^^^^^^^^^^^^^^^^^^^^^^^^^^^^^^^^^^\n",
      "  File \"/opt/miniconda3/envs/main/lib/python3.12/site-packages/torch/nn/modules/conv.py\", line 306, in _conv_forward\n",
      "    return F.conv1d(input, weight, bias, self.stride,\n",
      "           ^^^^^^^^^^^^^^^^^^^^^^^^^^^^^^^^^^^^^^^^^^\n",
      "KeyboardInterrupt\n",
      "\n",
      "During handling of the above exception, another exception occurred:\n",
      "\n",
      "Traceback (most recent call last):\n",
      "  File \"/opt/miniconda3/envs/main/lib/python3.12/site-packages/IPython/core/interactiveshell.py\", line 2168, in showtraceback\n",
      "    stb = self.InteractiveTB.structured_traceback(\n",
      "          ^^^^^^^^^^^^^^^^^^^^^^^^^^^^^^^^^^^^^^^^\n",
      "  File \"/opt/miniconda3/envs/main/lib/python3.12/site-packages/IPython/core/ultratb.py\", line 1454, in structured_traceback\n",
      "    return FormattedTB.structured_traceback(\n",
      "           ^^^^^^^^^^^^^^^^^^^^^^^^^^^^^^^^^\n",
      "  File \"/opt/miniconda3/envs/main/lib/python3.12/site-packages/IPython/core/ultratb.py\", line 1345, in structured_traceback\n",
      "    return VerboseTB.structured_traceback(\n",
      "           ^^^^^^^^^^^^^^^^^^^^^^^^^^^^^^^\n",
      "  File \"/opt/miniconda3/envs/main/lib/python3.12/site-packages/IPython/core/ultratb.py\", line 1192, in structured_traceback\n",
      "    formatted_exception = self.format_exception_as_a_whole(etype, evalue, etb, number_of_lines_of_context,\n",
      "                          ^^^^^^^^^^^^^^^^^^^^^^^^^^^^^^^^^^^^^^^^^^^^^^^^^^^^^^^^^^^^^^^^^^^^^^^^^^^^^^^^\n",
      "  File \"/opt/miniconda3/envs/main/lib/python3.12/site-packages/IPython/core/ultratb.py\", line 1082, in format_exception_as_a_whole\n",
      "    self.get_records(etb, number_of_lines_of_context, tb_offset) if etb else []\n",
      "    ^^^^^^^^^^^^^^^^^^^^^^^^^^^^^^^^^^^^^^^^^^^^^^^^^^^^^^^^^^^^\n",
      "  File \"/opt/miniconda3/envs/main/lib/python3.12/site-packages/IPython/core/ultratb.py\", line 1134, in get_records\n",
      "    style = stack_data.style_with_executing_node(style, self._tb_highlight)\n",
      "            ^^^^^^^^^^^^^^^^^^^^^^^^^^^^^^^^^^^^^^^^^^^^^^^^^^^^^^^^^^^^^^^\n",
      "  File \"/opt/miniconda3/envs/main/lib/python3.12/site-packages/stack_data/core.py\", line 455, in style_with_executing_node\n",
      "    class NewStyle(style):\n",
      "  File \"/opt/miniconda3/envs/main/lib/python3.12/site-packages/pygments/style.py\", line 91, in __new__\n",
      "    ndef[4] = colorformat(styledef[3:])\n",
      "              ^^^^^^^^^^^^^^^^^^^^^^^^^\n",
      "  File \"/opt/miniconda3/envs/main/lib/python3.12/site-packages/pygments/style.py\", line 58, in colorformat\n",
      "    assert False, \"wrong color format %r\" % text\n",
      "AssertionError: wrong color format 'ansiyellow'\n"
     ]
    }
   ],
   "source": [
    "train_object.run(num_epoch = 2)"
   ]
  }
 ],
 "metadata": {
  "kernelspec": {
   "display_name": "Python 3 (ipykernel)",
   "language": "python",
   "name": "python3"
  },
  "language_info": {
   "codemirror_mode": {
    "name": "ipython",
    "version": 3
   },
   "file_extension": ".py",
   "mimetype": "text/x-python",
   "name": "python",
   "nbconvert_exporter": "python",
   "pygments_lexer": "ipython3",
   "version": "3.12.2"
  }
 },
 "nbformat": 4,
 "nbformat_minor": 5
}
