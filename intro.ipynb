{
 "cells": [
  {
   "cell_type": "code",
   "execution_count": 1,
   "id": "950b2909-18bb-42f9-bad0-47dae9b6760b",
   "metadata": {},
   "outputs": [],
   "source": [
    "import pandas as pd\n",
    "import numpy as np\n",
    "import torch\n",
    "from torch.utils.data import Dataset, DataLoader\n",
    "from torchvision import transforms"
   ]
  },
  {
   "cell_type": "code",
   "execution_count": 2,
   "id": "c072d950-fb92-4e7d-859b-b8d6cba99179",
   "metadata": {},
   "outputs": [],
   "source": [
    "from CloudDetect.util import read_off, visualise\n",
    "from CloudDetect.transform import PointCloudSample, Normalise, Tensor\n",
    "from CloudDetect.models import PointNet"
   ]
  },
  {
   "cell_type": "code",
   "execution_count": 153,
   "id": "eea590bb-ad5f-43ea-9da9-77a34e6fd954",
   "metadata": {},
   "outputs": [],
   "source": [
    "import glob\n",
    "metadata = pd.read_csv('data/metadata_modelnet40.csv')\n",
    "all_data_files = glob.glob('**/*.off',recursive=True)\n",
    "all_data_files = set(['/'.join(x.split('/')[2:]) for x in all_data_files])\n",
    "metadata = metadata[metadata['object_path'].map(lambda x: x in all_data_files)]"
   ]
  },
  {
   "cell_type": "code",
   "execution_count": 154,
   "id": "988e26d5-c0f2-41b5-877f-fa582f143a51",
   "metadata": {},
   "outputs": [],
   "source": [
    "file = ROOT + metadata['object_path'].iloc[-4465]\n",
    "verts, faces = read_off(open(file))\n",
    "#fig = visualise(verts)\n",
    "\n",
    "new_verts = Normalise('max')(PointCloudSample(2000)(verts))\n",
    "#fig = visualise(new_verts)"
   ]
  },
  {
   "cell_type": "code",
   "execution_count": 135,
   "id": "c1e74f70-aed3-4762-9bc8-8692c7a8e008",
   "metadata": {},
   "outputs": [],
   "source": [
    "batch_size = 32\n",
    "n_points = 2000\n",
    "input = torch.tensor(np.random.uniform(0,1,(batch_size, 3, n_points)))"
   ]
  },
  {
   "cell_type": "code",
   "execution_count": 136,
   "id": "6796be55-dc76-4767-8242-276b4b455795",
   "metadata": {},
   "outputs": [],
   "source": [
    "pnet = PointNet(n_points, classes = 10, segment = False)\n",
    "classification_output = pnet(input.float())"
   ]
  },
  {
   "cell_type": "code",
   "execution_count": 122,
   "id": "9b10600c-7a3c-40df-8359-8742e48129ed",
   "metadata": {},
   "outputs": [],
   "source": [
    "# data loader"
   ]
  },
  {
   "cell_type": "code",
   "execution_count": 123,
   "id": "06aa6437-064d-4e0a-93a0-02118e801d3f",
   "metadata": {},
   "outputs": [
    {
     "data": {
      "text/plain": [
       "torch.Size([1024, 3])"
      ]
     },
     "execution_count": 123,
     "metadata": {},
     "output_type": "execute_result"
    }
   ],
   "source": [
    "preprocessing(1024, 'max')(verts).shape"
   ]
  },
  {
   "cell_type": "code",
   "execution_count": 155,
   "id": "00e12d78-a3bf-41e3-aac3-ac52fa1a02d1",
   "metadata": {},
   "outputs": [],
   "source": [
    "def preprocessing(n_sample, norm_how):\n",
    "    composition = [\n",
    "            PointCloudSample(n_sample),\n",
    "            Normalise(norm_how),\n",
    "            Tensor()\n",
    "    ]\n",
    "    return transforms.Compose(composition)\n",
    "\n",
    "def generate_class_mapper(metadata):\n",
    "    class_mapper = {x:i for i,x in enumerate(metadata['class'].unique())}\n",
    "    return class_mapper"
   ]
  },
  {
   "cell_type": "code",
   "execution_count": 156,
   "id": "941ab398-c47a-4e30-8e9f-44be96f71107",
   "metadata": {},
   "outputs": [],
   "source": [
    "import os\n",
    "import pandas as pd\n",
    "from torchvision.io import read_image\n",
    "\n",
    "class CloudDataset(Dataset):\n",
    "    def __init__(self, metadata, preprocessor, root, class_mapper):\n",
    "        self.metadata = metadata\n",
    "        self.preprocessor = preprocessor\n",
    "        self.root = root\n",
    "        self.class_mapper = class_mapper\n",
    "        \n",
    "    def __len__(self):\n",
    "        return len(self.metadata)\n",
    "\n",
    "    def __getitem__(self, idx):\n",
    "        data_instance = metadata.iloc[idx]\n",
    "        class_item = self.class_mapper[data_instance['class']]\n",
    "        class_item = torch.nn.functional.one_hot(torch.tensor(class_item), num_classes=len(self.class_mapper))\n",
    "        file = self.root + data_instance['object_path']\n",
    "        verts, faces = read_off(open(file))\n",
    "        return {'data':self.preprocessor(verts),'category':class_item}"
   ]
  },
  {
   "cell_type": "code",
   "execution_count": 157,
   "id": "a2deee91-616a-4503-bc24-18b37e85bcd9",
   "metadata": {},
   "outputs": [],
   "source": [
    "ROOT = 'data/ModelNet40/'\n",
    "preprocessor = preprocessing(1024, 'max')\n",
    "class_mapper = generate_class_mapper(metadata)\n",
    "cloud_dataset = CloudDataset(metadata, preprocessor, ROOT, class_mapper)"
   ]
  },
  {
   "cell_type": "code",
   "execution_count": 158,
   "id": "39d0ebfb-50ad-42d7-a0f8-c60674d1625f",
   "metadata": {},
   "outputs": [],
   "source": [
    "CloudDataLoader = DataLoader(cloud_dataset, batch_size=64, shuffle=True)"
   ]
  },
  {
   "cell_type": "code",
   "execution_count": 159,
   "id": "8c606724-a632-4251-a5e4-b63571a63503",
   "metadata": {},
   "outputs": [],
   "source": [
    "for x in CloudDataLoader:\n",
    "    break"
   ]
  },
  {
   "cell_type": "code",
   "execution_count": null,
   "id": "047cd579-5232-44ff-a515-7d48c240f0c0",
   "metadata": {},
   "outputs": [],
   "source": []
  }
 ],
 "metadata": {
  "kernelspec": {
   "display_name": "Python 3 (ipykernel)",
   "language": "python",
   "name": "python3"
  },
  "language_info": {
   "codemirror_mode": {
    "name": "ipython",
    "version": 3
   },
   "file_extension": ".py",
   "mimetype": "text/x-python",
   "name": "python",
   "nbconvert_exporter": "python",
   "pygments_lexer": "ipython3",
   "version": "3.12.2"
  }
 },
 "nbformat": 4,
 "nbformat_minor": 5
}
